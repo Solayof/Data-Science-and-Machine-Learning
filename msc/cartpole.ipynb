{
 "cells": [
  {
   "cell_type": "code",
   "execution_count": 10,
   "id": "8dabb5ec-1099-4d49-a15f-289f6b19739d",
   "metadata": {},
   "outputs": [
    {
     "name": "stdout",
     "output_type": "stream",
     "text": [
      "State size: 4\n",
      "Action size: 2\n"
     ]
    }
   ],
   "source": [
    "import gymnasium as gym\n",
    "import numpy as np\n",
    "import random\n",
    "\n",
    "# Create environment\n",
    "env = gym.make(\"CartPole-v1\")\n",
    "\n",
    "# Observation space (state size)\n",
    "state_size = env.observation_space.shape[0]\n",
    "action_size = env.action_space.n\n",
    "\n",
    "print(\"State size:\", state_size)\n",
    "print(\"Action size:\", action_size)"
   ]
  },
  {
   "cell_type": "code",
   "execution_count": 11,
   "id": "85a64895-4a79-4ea6-b355-b3c2fd9dfaa2",
   "metadata": {},
   "outputs": [],
   "source": [
    "# Discretize states\n",
    "def discretize_state(state, bins=(6, 12)):\n",
    "    cart_pos, cart_vel, pole_angle, pole_vel = state\n",
    "    cart_pos_bins = np.linspace(-2.4, 2.4, bins[0])\n",
    "    cart_vel_bins = np.linspace(-3.0, 3.0, bins[1])\n",
    "    pole_angle_bins = np.linspace(-0.21, 0.21, bins[0])\n",
    "    pole_vel_bins = np.linspace(-3.5, 3.5, bins[1])\n",
    "\n",
    "    state_idx = (\n",
    "        np.digitize(cart_pos, cart_pos_bins),\n",
    "        np.digitize(cart_vel, cart_vel_bins),\n",
    "        np.digitize(pole_angle, pole_angle_bins),\n",
    "        np.digitize(pole_vel, pole_vel_bins),\n",
    "    )\n",
    "    return state_idx"
   ]
  },
  {
   "cell_type": "code",
   "execution_count": 12,
   "id": "c2dc2d9c-f8b8-443d-9afb-1f2ae269b2ad",
   "metadata": {},
   "outputs": [],
   "source": [
    "# Initialize Q-table\n",
    "q_table = np.zeros((7, 13, 7, 13, action_size))  # (bins + 1 for digitize output)\n",
    "\n",
    "# Hyperparameters\n",
    "alpha = 0.1   # learning rate\n",
    "gamma = 0.99  # discount factor\n",
    "epsilon = 1.0 # exploration rate\n",
    "epsilon_decay = 0.995\n",
    "epsilon_min = 0.01\n",
    "episodes = 5000"
   ]
  },
  {
   "cell_type": "code",
   "execution_count": 13,
   "id": "dc5ba5c9-a67d-4959-9ee4-47d6b5145ff6",
   "metadata": {},
   "outputs": [
    {
     "name": "stdout",
     "output_type": "stream",
     "text": [
      "Episode 0, Total reward: 24.0, Epsilon: 0.99\n",
      "Episode 500, Total reward: 62.0, Epsilon: 0.08\n",
      "Episode 1000, Total reward: 111.0, Epsilon: 0.01\n",
      "Episode 1500, Total reward: 100.0, Epsilon: 0.01\n",
      "Episode 2000, Total reward: 115.0, Epsilon: 0.01\n",
      "Episode 2500, Total reward: 100.0, Epsilon: 0.01\n",
      "Episode 3000, Total reward: 103.0, Epsilon: 0.01\n",
      "Episode 3500, Total reward: 66.0, Epsilon: 0.01\n",
      "Episode 4000, Total reward: 103.0, Epsilon: 0.01\n",
      "Episode 4500, Total reward: 96.0, Epsilon: 0.01\n"
     ]
    }
   ],
   "source": [
    "for episode in range(episodes):\n",
    "    state = discretize_state(env.reset()[0])  # get initial state\n",
    "    done = False\n",
    "    total_reward = 0\n",
    "\n",
    "    while not done:\n",
    "        # ε-greedy policy\n",
    "        if random.uniform(0, 1) < epsilon:\n",
    "            action = env.action_space.sample()\n",
    "        else:\n",
    "            action = np.argmax(q_table[state])\n",
    "\n",
    "        next_state, reward, done, _, _ = env.step(action)\n",
    "        next_state = discretize_state(next_state)\n",
    "\n",
    "        # Update Q-value\n",
    "        best_next_action = np.argmax(q_table[next_state])\n",
    "        q_table[state + (action,)] += alpha * (\n",
    "            reward + gamma * q_table[next_state + (best_next_action,)] - q_table[state + (action,)]\n",
    "        )\n",
    "\n",
    "        state = next_state\n",
    "        total_reward += reward\n",
    "\n",
    "    # Decay epsilon\n",
    "    if epsilon > epsilon_min:\n",
    "        epsilon *= epsilon_decay\n",
    "\n",
    "    if episode % 500 == 0:\n",
    "        print(f\"Episode {episode}, Total reward: {total_reward}, Epsilon: {epsilon:.2f}\")"
   ]
  },
  {
   "cell_type": "code",
   "execution_count": 14,
   "id": "99d7928e-a10e-425a-9d6d-bb4ab1809fce",
   "metadata": {},
   "outputs": [
    {
     "name": "stdout",
     "output_type": "stream",
     "text": [
      "Test Reward: 114.0\n"
     ]
    }
   ],
   "source": [
    "state = discretize_state(env.reset()[0])\n",
    "done = False\n",
    "total_reward = 0\n",
    "\n",
    "while not done:\n",
    "    env.render()\n",
    "    action = np.argmax(q_table[state])\n",
    "    next_state, reward, done, _, _ = env.step(action)\n",
    "    next_state = discretize_state(next_state)\n",
    "    state = next_state\n",
    "    total_reward += reward\n",
    "\n",
    "print(\"Test Reward:\", total_reward)\n",
    "env.close()"
   ]
  },
  {
   "cell_type": "code",
   "execution_count": null,
   "id": "15d5a203-1168-4628-a3af-3c57a73ed800",
   "metadata": {},
   "outputs": [],
   "source": []
  }
 ],
 "metadata": {
  "kernelspec": {
   "display_name": "Python 3 (ipykernel)",
   "language": "python",
   "name": "python3"
  },
  "language_info": {
   "codemirror_mode": {
    "name": "ipython",
    "version": 3
   },
   "file_extension": ".py",
   "mimetype": "text/x-python",
   "name": "python",
   "nbconvert_exporter": "python",
   "pygments_lexer": "ipython3",
   "version": "3.12.11"
  }
 },
 "nbformat": 4,
 "nbformat_minor": 5
}
