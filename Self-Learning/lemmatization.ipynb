{
 "cells": [
  {
   "cell_type": "code",
   "execution_count": 1,
   "id": "23704f98-ed93-4e41-a80a-e609e81f6647",
   "metadata": {},
   "outputs": [],
   "source": [
    "from nltk.tokenize import word_tokenize\n",
    "\n",
    "text = \"The striped bats are hanging on their feet for best.\"\n",
    "\n",
    "word_tokens = word_tokenize(text)"
   ]
  },
  {
   "cell_type": "code",
   "execution_count": 3,
   "id": "c18f9cfd-d234-4de2-a200-e7fe50693ea1",
   "metadata": {},
   "outputs": [
    {
     "data": {
      "text/plain": [
       "['The', 'strip', 'bat', 'be', 'hang', 'on', 'their', 'feet', 'for', 'best']"
      ]
     },
     "execution_count": 3,
     "metadata": {},
     "output_type": "execute_result"
    }
   ],
   "source": [
    "from nltk.stem import WordNetLemmatizer\n",
    "from nltk.corpus import wordnet\n",
    "\n",
    "lemmetizer = WordNetLemmatizer()\n",
    "\n",
    "lemmetized = [lemmetizer.lemmatize(word, pos=wordnet.VERB) for word in word_tokens]\n",
    "lemmetized"
   ]
  },
  {
   "cell_type": "code",
   "execution_count": 6,
   "id": "673cfa84-bc9a-4f2e-b3dc-6bd46f276422",
   "metadata": {},
   "outputs": [],
   "source": [
    "def lemmatization_func():\n",
    "    reviews = [\"The cats were running around\", \"A better solution was provided\"]\n",
    "    lemmitized_reviews = []\n",
    "    for review in reviews:\n",
    "        tokens = word_tokenize(review)\n",
    "        lemmatized_words = [lemmetizer.lemmatize(word, pos=wordnet.VERB) for word in tokens]\n",
    "        lemmitized_reviews.append(\" \".join(lemmatized_words))\n",
    "\n",
    "    print(lemmitized_reviews)"
   ]
  },
  {
   "cell_type": "code",
   "execution_count": 7,
   "id": "3d1a8a3b-ef81-406d-a5ab-b4caf45c728c",
   "metadata": {},
   "outputs": [
    {
     "name": "stdout",
     "output_type": "stream",
     "text": [
      "['The cat be run around', 'A better solution be provide']\n"
     ]
    }
   ],
   "source": [
    "lemmatization_func()"
   ]
  },
  {
   "cell_type": "code",
   "execution_count": null,
   "id": "65b66061-3a15-43f0-8e3e-e7c2082daae6",
   "metadata": {},
   "outputs": [],
   "source": []
  }
 ],
 "metadata": {
  "kernelspec": {
   "display_name": "Python 3 (ipykernel)",
   "language": "python",
   "name": "python3"
  },
  "language_info": {
   "codemirror_mode": {
    "name": "ipython",
    "version": 3
   },
   "file_extension": ".py",
   "mimetype": "text/x-python",
   "name": "python",
   "nbconvert_exporter": "python",
   "pygments_lexer": "ipython3",
   "version": "3.12.11"
  }
 },
 "nbformat": 4,
 "nbformat_minor": 5
}
