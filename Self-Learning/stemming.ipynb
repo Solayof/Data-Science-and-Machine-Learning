{
 "cells": [
  {
   "cell_type": "code",
   "execution_count": 2,
   "id": "8c12d93d-fcd9-4546-a8c0-66dbdcfc82ee",
   "metadata": {},
   "outputs": [
    {
     "data": {
      "text/plain": [
       "['Running', 'ran', 'runs', 'easily', 'and', 'quickly']"
      ]
     },
     "execution_count": 2,
     "metadata": {},
     "output_type": "execute_result"
    }
   ],
   "source": [
    "import nltk\n",
    "from nltk.tokenize import word_tokenize\n",
    "\n",
    "text = \"Running ran runs easily and quickly\"\n",
    "word_tokens = word_tokenize(text)\n",
    "word_tokens"
   ]
  },
  {
   "cell_type": "code",
   "execution_count": 5,
   "id": "eaaa423b-335b-43da-9829-ef66827a7c45",
   "metadata": {},
   "outputs": [
    {
     "data": {
      "text/plain": [
       "['run', 'ran', 'run', 'easili', 'and', 'quickli']"
      ]
     },
     "execution_count": 5,
     "metadata": {},
     "output_type": "execute_result"
    }
   ],
   "source": [
    "from nltk.stem import PorterStemmer\n",
    "\n",
    "stemmer = PorterStemmer()\n",
    "\n",
    "stemmed = [stemmer.stem(word) for word in word_tokens]\n",
    "stemmed"
   ]
  },
  {
   "cell_type": "code",
   "execution_count": 7,
   "id": "1279489c-60f5-420e-8754-63063911255c",
   "metadata": {},
   "outputs": [
    {
     "data": {
      "text/plain": [
       "['run', 'ran', 'run', 'easy', 'and', 'quick']"
      ]
     },
     "execution_count": 7,
     "metadata": {},
     "output_type": "execute_result"
    }
   ],
   "source": [
    "from nltk.stem import LancasterStemmer\n",
    "\n",
    "lancasterStemmer = LancasterStemmer()\n",
    "lancasterStemmed = [lancasterStemmer.stem(word) for word in word_tokens]\n",
    "lancasterStemmed"
   ]
  },
  {
   "cell_type": "code",
   "execution_count": null,
   "id": "81732b51-0642-48f8-9749-27e4fe39573e",
   "metadata": {},
   "outputs": [],
   "source": []
  }
 ],
 "metadata": {
  "kernelspec": {
   "display_name": "Python 3 (ipykernel)",
   "language": "python",
   "name": "python3"
  },
  "language_info": {
   "codemirror_mode": {
    "name": "ipython",
    "version": 3
   },
   "file_extension": ".py",
   "mimetype": "text/x-python",
   "name": "python",
   "nbconvert_exporter": "python",
   "pygments_lexer": "ipython3",
   "version": "3.12.11"
  }
 },
 "nbformat": 4,
 "nbformat_minor": 5
}
