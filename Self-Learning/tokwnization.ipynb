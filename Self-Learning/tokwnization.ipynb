{
 "cells": [
  {
   "cell_type": "code",
   "execution_count": 1,
   "id": "3c537f18-e2be-4e87-b0f6-c9d9a11d6f99",
   "metadata": {},
   "outputs": [],
   "source": [
    "import sklearn as sk\n",
    "import nltk\n",
    "from nltk.corpus import stopwords\n",
    "\n",
    "# nltk.download(\"vader_lexicon\")"
   ]
  },
  {
   "cell_type": "code",
   "execution_count": 2,
   "id": "e3e4a200-8abe-4e45-97b9-6c52f0c12af1",
   "metadata": {},
   "outputs": [
    {
     "data": {
      "text/plain": [
       "['the',\n",
       " 'movie',\n",
       " 'was',\n",
       " 'absolutely',\n",
       " 'fantastic',\n",
       " '!',\n",
       " 'the',\n",
       " 'plot',\n",
       " 'and',\n",
       " 'acting',\n",
       " 'was',\n",
       " 'top-notch',\n",
       " '.']"
      ]
     },
     "execution_count": 2,
     "metadata": {},
     "output_type": "execute_result"
    }
   ],
   "source": [
    "text = \"The movie was absolutely fantastic! The plot and acting was top-notch.\"\n",
    "\n",
    "word_tokens = nltk.tokenize.word_tokenize(text.lower())\n",
    "word_tokens"
   ]
  },
  {
   "cell_type": "code",
   "execution_count": 3,
   "id": "c4555037-0ee8-478c-b4f6-ceb221fcf050",
   "metadata": {},
   "outputs": [
    {
     "data": {
      "text/plain": [
       "['movie', 'absolutely', 'fantastic', 'plot', 'acting']"
      ]
     },
     "execution_count": 3,
     "metadata": {},
     "output_type": "execute_result"
    }
   ],
   "source": [
    "stop_words = stopwords.words(\"english\")\n",
    "filter_tokens = [token for token in word_tokens if token not in stop_words and token.isalnum()]\n",
    "filter_tokens"
   ]
  },
  {
   "cell_type": "code",
   "execution_count": 4,
   "id": "106e4812-eb63-47e7-bbad-08e6c941b10c",
   "metadata": {},
   "outputs": [],
   "source": [
    "from sklearn.feature_extraction.text import TfidfVectorizer\n",
    "vectorizer = TfidfVectorizer()\n",
    "corpus = [\n",
    "    text,\n",
    "    \"The movie was okay, but the acting could have been better\",\n",
    "    \"I did not like the moive.The plot was too slow\"\n",
    "]"
   ]
  },
  {
   "cell_type": "code",
   "execution_count": 5,
   "id": "762128d2-5229-401e-9910-c549c65afd4d",
   "metadata": {},
   "outputs": [
    {
     "data": {
      "text/plain": [
       "{'absolutely': np.float64(0.32400288120983517),\n",
       " 'acting': np.float64(0.2464125424811865),\n",
       " 'and': np.float64(0.32400288120983517),\n",
       " 'been': np.float64(0.0),\n",
       " 'better': np.float64(0.0),\n",
       " 'but': np.float64(0.0),\n",
       " 'could': np.float64(0.0),\n",
       " 'did': np.float64(0.0),\n",
       " 'fantastic': np.float64(0.32400288120983517),\n",
       " 'have': np.float64(0.0),\n",
       " 'like': np.float64(0.0),\n",
       " 'moive': np.float64(0.0),\n",
       " 'movie': np.float64(0.2464125424811865),\n",
       " 'not': np.float64(0.0),\n",
       " 'notch': np.float64(0.32400288120983517),\n",
       " 'okay': np.float64(0.0),\n",
       " 'plot': np.float64(0.2464125424811865),\n",
       " 'slow': np.float64(0.0),\n",
       " 'the': np.float64(0.3827226421068525),\n",
       " 'too': np.float64(0.0),\n",
       " 'top': np.float64(0.32400288120983517),\n",
       " 'was': np.float64(0.3827226421068525)}"
      ]
     },
     "execution_count": 5,
     "metadata": {},
     "output_type": "execute_result"
    }
   ],
   "source": [
    "tfidf_matrix = vectorizer.fit_transform(corpus)\n",
    "feature_names = vectorizer.get_feature_names_out()\n",
    "\n",
    "tfidf_dict = {feature_names[i]: tfidf_matrix[0, i] for i in range(len(feature_names))}\n",
    "tfidf_dict"
   ]
  },
  {
   "cell_type": "code",
   "execution_count": 9,
   "id": "934fc07a-aed7-4c80-867b-a0b039cc654f",
   "metadata": {},
   "outputs": [
    {
     "data": {
      "text/plain": [
       "{'neg': 0.0, 'neu': 0.705, 'pos': 0.295, 'compound': 0.6352}"
      ]
     },
     "execution_count": 9,
     "metadata": {},
     "output_type": "execute_result"
    }
   ],
   "source": [
    "from nltk.sentiment import SentimentIntensityAnalyzer\n",
    "\n",
    "s_analyzer = SentimentIntensityAnalyzer()\n",
    "sentiment_scores = s_analyzer.polarity_scores(text)\n",
    "sentiment_scores"
   ]
  },
  {
   "cell_type": "code",
   "execution_count": 10,
   "id": "d1c1e8ab-6857-47a2-be13-84d3c6e35b05",
   "metadata": {},
   "outputs": [
    {
     "data": {
      "text/plain": [
       "'positive'"
      ]
     },
     "execution_count": 10,
     "metadata": {},
     "output_type": "execute_result"
    }
   ],
   "source": [
    "if sentiment_scores[\"compound\"] > 0:\n",
    "    sentiment = \"positive\"\n",
    "elif sentiment_scores[\"compound\"] < 0:\n",
    "    sentiment = \"negative\"\n",
    "else:\n",
    "    sentiment = \"neutral\"\n",
    "\n",
    "sentiment"
   ]
  },
  {
   "cell_type": "code",
   "execution_count": null,
   "id": "09ea776f-28b0-433b-9944-cb05168993c2",
   "metadata": {},
   "outputs": [],
   "source": []
  }
 ],
 "metadata": {
  "kernelspec": {
   "display_name": "Python 3 (ipykernel)",
   "language": "python",
   "name": "python3"
  },
  "language_info": {
   "codemirror_mode": {
    "name": "ipython",
    "version": 3
   },
   "file_extension": ".py",
   "mimetype": "text/x-python",
   "name": "python",
   "nbconvert_exporter": "python",
   "pygments_lexer": "ipython3",
   "version": "3.12.11"
  }
 },
 "nbformat": 4,
 "nbformat_minor": 5
}
